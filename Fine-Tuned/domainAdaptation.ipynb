{
 "cells": [
  {
   "cell_type": "markdown",
   "id": "d43d76f0",
   "metadata": {},
   "source": [
    "# Domain Adaptation"
   ]
  },
  {
   "cell_type": "code",
   "execution_count": null,
   "id": "8c4140cf",
   "metadata": {},
   "outputs": [],
   "source": [
    "# Example Json for Training\n",
    "\n",
    "[\n",
    "  {\n",
    "    \"instruction\": \"Rearrange the furniture in a 12x14 living room for a wheelchair user.\",\n",
    "    \"input\": \"Furniture: Sofa (200x90), Coffee table (100x60), Bookshelf (80x30), TV stand (120x40).\\nConstraints: 90cm clear paths, 150cm turning radius near sofa.\",\n",
    "    \"output\": \"Place sofa along north wall, TV stand opposite, leave 120cm clearance in center, move bookshelf to east wall, coffee table closer to south for free wheelchair access.\"\n",
    "  },\n",
    "  {\n",
    "    \"instruction\": \"Optimize a bedroom for elderly comfort and fall prevention.\",\n",
    "    \"input\": \"Room: 10x12. Furniture: Bed, Wardrobe, Chair, Side table.\",\n",
    "    \"output\": \"Place bed near center wall, keep side table within 40cm reach, wardrobe along west wall with 100cm clearance, chair near window but not blocking pathway.\"\n",
    "  }\n",
    "]\n"
   ]
  },
  {
   "cell_type": "code",
   "execution_count": 1,
   "id": "67537464",
   "metadata": {},
   "outputs": [
    {
     "name": "stdout",
     "output_type": "stream",
     "text": [
      "ollama version is 0.11.10\n"
     ]
    }
   ],
   "source": [
    "!ollama --version"
   ]
  },
  {
   "cell_type": "code",
   "execution_count": 22,
   "id": "6a78dbde",
   "metadata": {},
   "outputs": [],
   "source": [
    "import os\n",
    "import json\n",
    "\n",
    "# Paths\n",
    "dataset_json = r\"C:\\Users\\Admin\\Documents\\SmartFurnitureLayoutPlanner\\constraints\\bedroom_lora_dataset.json\"\n",
    "dataset_jsonl = r\"C:\\Users\\Admin\\Documents\\SmartFurnitureLayoutPlanner\\constraints\\bedroom_lora_dataset.jsonl\"\n",
    "\n",
    "# Verify dataset exists\n",
    "if not os.path.exists(dataset_json):\n",
    "    raise FileNotFoundError(f\"File not found: {dataset_json}\")\n"
   ]
  },
  {
   "cell_type": "code",
   "execution_count": 23,
   "id": "b51747cd",
   "metadata": {},
   "outputs": [
    {
     "name": "stdout",
     "output_type": "stream",
     "text": [
      "JSONL dataset created successfully at: C:\\Users\\Admin\\Documents\\SmartFurnitureLayoutPlanner\\constraints\\bedroom_lora_dataset.jsonl\n"
     ]
    }
   ],
   "source": [
    "with open(dataset_json, \"r\") as f:\n",
    "    data = json.load(f)\n",
    "\n",
    "with open(dataset_jsonl, \"w\") as f:\n",
    "    for entry in data:\n",
    "        prompt = f\"{entry['instruction']}\\n{entry['input']}\"\n",
    "        completion = entry['output']\n",
    "        json_line = {\"prompt\": prompt, \"completion\": completion}\n",
    "        f.write(json.dumps(json_line) + \"\\n\")\n",
    "\n",
    "print(f\"JSONL dataset created successfully at: {dataset_jsonl}\")\n"
   ]
  },
  {
   "cell_type": "code",
   "execution_count": null,
   "id": "ce1af9dc",
   "metadata": {},
   "outputs": [
    {
     "data": {
      "text/plain": [
       "1"
      ]
     },
     "execution_count": 24,
     "metadata": {},
     "output_type": "execute_result"
    }
   ],
   "source": [
    "import subprocess\n",
    "\n",
    "fine_tune_command = [\n",
    "    \"ollama\", \"fine-tune\", \"mistral:7b\",\n",
    "    \"--dataset\", dataset_jsonl,\n",
    "    \"--adapter-type\", \"lora\",\n",
    "    \"--adapter-name\", \"bedroom-lora\",\n",
    "    \"--output\", \"bedroom-mistral\",\n",
    "    \"--batch-size\", \"2\",\n",
    "    \"--learning-rate\", \"2e-4\",\n",
    "    \"--epochs\", \"3\"\n",
    "]\n",
    "\n",
    "process = subprocess.run(fine_tune_command, capture_output=True, text=True)\n",
    "\n",
    "print(\"STDOUT:\\n\", process.stdout)\n",
    "print(\"STDERR:\\n\", process.stderr)\n",
    "print(\"Exit code:\", process.returncode)\n"
   ]
  }
 ],
 "metadata": {
  "kernelspec": {
   "display_name": "Python 3",
   "language": "python",
   "name": "python3"
  },
  "language_info": {
   "codemirror_mode": {
    "name": "ipython",
    "version": 3
   },
   "file_extension": ".py",
   "mimetype": "text/x-python",
   "name": "python",
   "nbconvert_exporter": "python",
   "pygments_lexer": "ipython3",
   "version": "3.12.0"
  }
 },
 "nbformat": 4,
 "nbformat_minor": 5
}
